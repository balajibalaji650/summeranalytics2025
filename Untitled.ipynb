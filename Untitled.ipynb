{
 "cells": [
  {
   "cell_type": "code",
   "execution_count": 1,
   "id": "89619a39-4589-4604-b4c7-a22f4e452793",
   "metadata": {},
   "outputs": [],
   "source": [
    "import pandas as pd\n",
    "import numpy as np\n",
    "from sklearn.metrics import accuracy_score,f1_score,confusion_matrix,f1_score,precision_score,recall_score\n",
    "from sklearn.linear_model import LogisticRegression\n",
    "from sklearn.model_selection import train_test_split\n",
    "from sklearn.preprocessing import StandardScaler,LabelEncoder\n",
    "from sklearn.metrics import classification_report\n",
    "from sklearn.decomposition import PCA\n",
    "from sklearn.pipeline import make_pipeline\n",
    "\n",
    "\n",
    "\n",
    "\n",
    "\n"
   ]
  },
  {
   "cell_type": "code",
   "execution_count": 11,
   "id": "b4055815-d7c9-4dd8-99ae-e2c0bcc52cf7",
   "metadata": {},
   "outputs": [
    {
     "name": "stdout",
     "output_type": "stream",
     "text": [
      "              precision    recall  f1-score   support\n",
      "\n",
      "        farm       0.72      0.55      0.62       250\n",
      "      forest       0.93      0.98      0.95      1847\n",
      "       grass       0.90      0.70      0.79        61\n",
      "  impervious       0.84      0.81      0.82       200\n",
      "     orchard       0.25      0.11      0.15         9\n",
      "       water       0.77      0.73      0.75        33\n",
      "\n",
      "    accuracy                           0.90      2400\n",
      "   macro avg       0.74      0.65      0.68      2400\n",
      "weighted avg       0.90      0.90      0.90      2400\n",
      "\n"
     ]
    },
    {
     "name": "stderr",
     "output_type": "stream",
     "text": [
      "C:\\Users\\balaj\\anaconda3\\Lib\\site-packages\\sklearn\\linear_model\\_logistic.py:469: ConvergenceWarning: lbfgs failed to converge (status=1):\n",
      "STOP: TOTAL NO. of f AND g EVALUATIONS EXCEEDS LIMIT.\n",
      "\n",
      "Increase the number of iterations (max_iter) or scale the data as shown in:\n",
      "    https://scikit-learn.org/stable/modules/preprocessing.html\n",
      "Please also refer to the documentation for alternative solver options:\n",
      "    https://scikit-learn.org/stable/modules/linear_model.html#logistic-regression\n",
      "  n_iter_i = _check_optimize_result(\n"
     ]
    }
   ],
   "source": [
    "df = pd.read_csv('ndvi_features_engineered.csv')\n",
    "df['class'].value_counts\n",
    "df.fillna(df.mean(numeric_only=True), inplace = True)\n",
    "\n",
    "\n",
    "\n",
    "feature_cols = [col for col in df.columns if col not in ['Unnamed: 0', 'ID', 'class','ndvi_peak_time']]\n",
    "\n",
    "\n",
    "df[feature_cols] = df.groupby('class')[feature_cols].transform(\n",
    "    lambda x: x.fillna(x.mean())\n",
    ")\n",
    "encoder = LabelEncoder()\n",
    "df['class'] = encoder.fit_transform(df['class'])\n",
    "features = df.drop(columns = ['ID','class','ndvi_peak_time'])\n",
    "\n",
    "target = df['class']\n",
    "X_train,X_test,y_train,y_test=train_test_split(features,target,test_size=0.3,random_state=42)\n",
    "model = LogisticRegression(\n",
    "    penalty='l2',     \n",
    "    C=0.01,           \n",
    "    solver='lbfgs',    \n",
    "    max_iter=10000\n",
    ")\n",
    "model.fit(X_train, y_train)\n",
    "y_pred = model.predict(X_test)\n",
    "print(classification_report(\n",
    "    y_test,\n",
    "    y_pred,\n",
    "    labels=list(range(len(encoder.classes_))),\n",
    "    target_names=encoder.classes_\n",
    "))\n",
    "\n",
    "\n",
    "\n",
    "\n",
    "\n"
   ]
  },
  {
   "cell_type": "code",
   "execution_count": 13,
   "id": "3974a7dd-28c4-4679-87bd-80495281a884",
   "metadata": {},
   "outputs": [],
   "source": [
    "test = pd.read_csv('hacktest_features_engineered.csv')\n",
    "numeric_cols = test.select_dtypes(include='number').columns.tolist()\n",
    "numeric_cols = np.array(numeric_cols)\n",
    "test['std']= test[numeric_cols].std(axis=1)\n",
    "ID = test['ID']\n",
    "test_features = test[[col for col in feature_cols if col != 'class']]\n",
    "test_y = model.predict(test_features)\n",
    "y_decoded = encoder.inverse_transform(test_y)\n",
    "result = pd.DataFrame({\n",
    "    'ID': ID,\n",
    "    'class': y_decoded\n",
    "})\n",
    "result.to_csv(\"testme2.csv\", index=False)\n"
   ]
  },
  {
   "cell_type": "code",
   "execution_count": null,
   "id": "391d0d74-46b7-425f-8bc5-4efbb036976a",
   "metadata": {},
   "outputs": [],
   "source": []
  }
 ],
 "metadata": {
  "kernelspec": {
   "display_name": "Python 3 (ipykernel)",
   "language": "python",
   "name": "python3"
  },
  "language_info": {
   "codemirror_mode": {
    "name": "ipython",
    "version": 3
   },
   "file_extension": ".py",
   "mimetype": "text/x-python",
   "name": "python",
   "nbconvert_exporter": "python",
   "pygments_lexer": "ipython3",
   "version": "3.12.3"
  }
 },
 "nbformat": 4,
 "nbformat_minor": 5
}
